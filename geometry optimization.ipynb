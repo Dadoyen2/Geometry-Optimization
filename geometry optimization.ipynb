{
  "nbformat": 4,
  "nbformat_minor": 0,
  "metadata": {
    "colab": {
      "provenance": [],
      "authorship_tag": "ABX9TyN7GfSTfFO/dsU76jnHOXoU",
      "include_colab_link": true
    },
    "kernelspec": {
      "name": "python3",
      "display_name": "Python 3"
    },
    "language_info": {
      "name": "python"
    }
  },
  "cells": [
    {
      "cell_type": "markdown",
      "metadata": {
        "id": "view-in-github",
        "colab_type": "text"
      },
      "source": [
        "<a href=\"https://colab.research.google.com/github/Dadoyen2/Geometry-Optimization/blob/main/geometry%20optimization.ipynb\" target=\"_parent\"><img src=\"https://colab.research.google.com/assets/colab-badge.svg\" alt=\"Open In Colab\"/></a>"
      ]
    },
    {
      "cell_type": "code",
      "execution_count": 15,
      "metadata": {
        "colab": {
          "base_uri": "https://localhost:8080/"
        },
        "id": "aqSMrgVvOXT-",
        "outputId": "84ec4dc7-6b4e-444b-916b-bac9cd3a44d6"
      },
      "outputs": [
        {
          "output_type": "stream",
          "name": "stdout",
          "text": [
            "The input file has: 5 atoms\n",
            "Atoms and coordinates (in Å):\n",
            "C   -0.0127   1.0858   0.0080\n",
            "H    0.2021  -0.0041   0.1020\n",
            "H    1.0099   1.4631   0.2003\n",
            "H   -0.5899   1.4969  -0.8751\n",
            "H   -0.5229   1.4373   0.9048\n"
          ]
        }
      ],
      "source": [
        "import requests\n",
        "\n",
        "def extract_atom_coordinates_from_url(url):\n",
        "    atoms = []\n",
        "    response = requests.get(url)\n",
        "    response.raise_for_status()\n",
        "    lines = response.text.splitlines()\n",
        "\n",
        "    # Start parsing for atom data directly after identifying the pattern\n",
        "    for line in lines:\n",
        "        parts = line.split()\n",
        "        # Check if line contains a potential atom data pattern\n",
        "        if len(parts) >= 4 and parts[3].isalpha():\n",
        "            try:\n",
        "                # Attempt to parse the first three values as coordinates\n",
        "                x, y, z = map(float, parts[:3])\n",
        "                atom_type = parts[3]\n",
        "                atoms.append((atom_type, x, y, z))\n",
        "            except ValueError:\n",
        "                # Skip lines that don't fit the pattern (ensures generality)\n",
        "                continue\n",
        "\n",
        "    return atoms\n",
        "\n",
        "def print_atom_coordinates(atoms):\n",
        "    print(f\"The input file has: {len(atoms)} atoms\")\n",
        "    print(\"Atoms and coordinates (in Å):\")\n",
        "    for atom in atoms:\n",
        "        print(f\"{atom[0]:<2} {atom[1]:>8.4f} {atom[2]:>8.4f} {atom[3]:>8.4f}\")\n",
        "\n",
        "# Example URL to use with the general extraction function\n",
        "url = 'https://raw.githubusercontent.com/Dadoyen2/Geometry-Optimization/main/methane.mol2'\n",
        "atoms = extract_atom_coordinates_from_url(url)\n",
        "print_atom_coordinates(atoms)\n"
      ]
    },
    {
      "cell_type": "markdown",
      "source": [
        "# New Section"
      ],
      "metadata": {
        "id": "NHacYFRBWCvq"
      }
    },
    {
      "cell_type": "code",
      "source": [],
      "metadata": {
        "id": "EDGcDnhmXuoc"
      },
      "execution_count": 13,
      "outputs": []
    }
  ]
}