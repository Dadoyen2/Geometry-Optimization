{
  "nbformat": 4,
  "nbformat_minor": 0,
  "metadata": {
    "colab": {
      "provenance": [],
      "authorship_tag": "ABX9TyOjCfDpg0yYSEvkiP1CXgi5",
      "include_colab_link": true
    },
    "kernelspec": {
      "name": "python3",
      "display_name": "Python 3"
    },
    "language_info": {
      "name": "python"
    }
  },
  "cells": [
    {
      "cell_type": "markdown",
      "metadata": {
        "id": "view-in-github",
        "colab_type": "text"
      },
      "source": [
        "<a href=\"https://colab.research.google.com/github/Dadoyen2/Geometry-Optimization/blob/main/geometry_optimization_in_progress.ipynb\" target=\"_parent\"><img src=\"https://colab.research.google.com/assets/colab-badge.svg\" alt=\"Open In Colab\"/></a>"
      ]
    },
    {
      "cell_type": "code",
      "execution_count": 93,
      "metadata": {
        "colab": {
          "base_uri": "https://localhost:8080/"
        },
        "id": "aqSMrgVvOXT-",
        "outputId": "8aa3e8ae-6f22-4d08-c57b-b95ed6bb3efc"
      },
      "outputs": [
        {
          "output_type": "stream",
          "name": "stdout",
          "text": [
            "The input file has: 8 atoms\n",
            "Atoms and coordinates (in Å):\n",
            "C   -0.7560   0.0500   0.0000\n",
            "C    0.7960   0.0000   0.0500\n",
            "H   -1.1804   0.6486   0.7945\n",
            "H   -1.1004   0.3601  -0.9626\n",
            "H   -1.2405  -0.9987   0.4781\n",
            "H    1.1204  -0.3401   0.9526\n",
            "H    1.1605   1.0187  -0.1581\n",
            "H    1.1904  -0.6786  -0.7745\n"
          ]
        }
      ],
      "source": [
        "import requests\n",
        "import math\n",
        "def get_coordinate(url):\n",
        "    atoms = []\n",
        "    response = requests.get(url)\n",
        "    response.raise_for_status()\n",
        "    lines = response.text.splitlines()\n",
        "\n",
        "    # Start parsing for atom data directly after identifying the pattern\n",
        "    for line in lines:\n",
        "        parts = line.split()\n",
        "        # Check if line contains a potential atom data pattern\n",
        "        if len(parts) >= 4 and parts[3].isalpha():\n",
        "            try:\n",
        "                # Attempt to parse the first three values as coordinates\n",
        "                x, y, z = map(float, parts[:3])\n",
        "                atom_type = parts[3]\n",
        "                atoms.append((atom_type, x, y, z))\n",
        "            except ValueError:\n",
        "                # Skip lines that don't fit the pattern (ensures generality)\n",
        "                continue\n",
        "\n",
        "    return atoms\n",
        "\n",
        "def print_atom_coordinates(atoms):\n",
        "    print(f\"The input file has: {len(atoms)} atoms\")\n",
        "    print(\"Atoms and coordinates (in Å):\")\n",
        "    for atom in atoms:\n",
        "        print(f\"{atom[0]:<2} {atom[1]:>8.4f} {atom[2]:>8.4f} {atom[3]:>8.4f}\")\n",
        "\n",
        "# Example URL to use with the general extraction function\n",
        "url = 'https://raw.githubusercontent.com/Dadoyen2/Geometry-Optimization/main/ethane_dist.mol2'\n",
        "atoms = get_coordinate(url)\n",
        "print_atom_coordinates(atoms)\n",
        "\n",
        "\n"
      ]
    },
    {
      "cell_type": "code",
      "source": [
        "import numpy as np\n",
        "import requests\n",
        "\n",
        "def bond_length(coord1, coord2):\n",
        "    return np.linalg.norm(np.array(coord2) - np.array(coord1))\n",
        "\n",
        "def bond_angle(coord1, coord2, coord3):\n",
        "    vec1 = np.array(coord1) - np.array(coord2)\n",
        "    vec2 = np.array(coord3) - np.array(coord2)\n",
        "    cos_theta = np.dot(vec1, vec2) / (np.linalg.norm(vec1) * np.linalg.norm(vec2))\n",
        "    return np.degrees(np.arccos(cos_theta))\n",
        "\n",
        "\n",
        "\n",
        "def dihedral_angle(coord1, coord2, coord3, coord4):\n",
        "    # Define the vectors\n",
        "    vec1 = np.array(coord1) - np.array(coord2)  # r_AB\n",
        "    vec2 = np.array(coord3) - np.array(coord2)  # r_BC\n",
        "    vec3 = np.array(coord4) - np.array(coord3)  # r_CD\n",
        "\n",
        "    # Calculate normal vectors to planes\n",
        "    t = np.cross(vec1, vec2)  # Normal to plane ABC\n",
        "    u = np.cross(vec2, vec3)  # Normal to plane BCD\n",
        "\n",
        "    # Calculate vector perpendicular to both normal vectors\n",
        "    v = np.cross(t, u)\n",
        "\n",
        "    # Compute cos(phi)\n",
        "    cos_phi = np.dot(t, u) / (np.linalg.norm(t) * np.linalg.norm(u))\n",
        "\n",
        "    # Compute sin(phi)\n",
        "    sin_phi = np.dot(vec2 / np.linalg.norm(vec2), v) / (np.linalg.norm(t) * np.linalg.norm(u))\n",
        "\n",
        "    # Correct numerical inaccuracies (clipping for cos_phi)\n",
        "    cos_phi = np.clip(cos_phi, -1.0, 1.0)\n",
        "\n",
        "    # Calculate dihedral angle\n",
        "    angle_rad = np.arctan2(sin_phi, cos_phi)  # Angle in radians\n",
        "    angle_degree = np.degrees(angle_rad)     # Convert radians to degrees\n",
        "\n",
        "    # Normalize angle to the range 0° to 360°\n",
        "    if angle_degree < 0:\n",
        "        angle_degree += 360\n",
        "    angle_rad = np.radians(angle_degree)\n",
        "\n",
        "  #  return angle_degree, angle_rad\n",
        "\n",
        "    # Subtract the angle from 180 degrees\n",
        "    corrected_angle_degree = angle_degree -180\n",
        "    corrected_angle_rad = np.radians(corrected_angle_degree)\n",
        "\n",
        "    return corrected_angle_degree, corrected_angle_rad\n",
        "\n",
        "\n",
        "# Stretching (Bond) Energy Calculation\n",
        "    # Parameters for bond lengths and constants\n",
        "bond_params = {\n",
        "    ('C', 'H'): (350, 1.11),  # Example: k_b and r_0 for C-H bond\n",
        "    ('C', 'C'): (300, 1.53),  # Example: k_b and r_0 for C-C bond\n",
        "    #\n",
        "}\n",
        "\n",
        "# Define distance cutoffs to distinguish bonded vs non-bonded interactions\n",
        "bond_cutoffs = {\n",
        "    ('C', 'H'): (0.5, 1.5),  # Minimum and maximum cutoff for C-H bond detection\n",
        "    ('C', 'C'): (1.0, 2.0),  # Minimum and maximum cutoff for C-C bond detection\n",
        "    # Add other cutoffs as needed\n",
        "}\n",
        "\n",
        "# Stretching (Bond) Energy Calculation with flexibility for any C-H or hydrocarbon bonds\n",
        "stretch_energy = 0.0\n",
        "bond_count = 0\n",
        "visited_bonds = set()  # To keep track of counted bonds\n",
        "bonds_new = []\n",
        "for i in range(len(atoms) - 1):\n",
        "    for j in range(i + 1, len(atoms)):\n",
        "        bond_type = tuple(sorted((atoms[i][0], atoms[j][0])))  # Determine bond type dynamically\n",
        "\n",
        "        # Only consider bond types defined in bond_params and bond_cutoffs\n",
        "        if bond_type in bond_params and bond_type in bond_cutoffs:\n",
        "            # Calculate bond length\n",
        "            r = bond_length(atoms[i][1:], atoms[j][1:])\n",
        "\n",
        "            # Apply distance cutoff to avoid counting non-bonded pairs\n",
        "            min_cutoff, max_cutoff = bond_cutoffs[bond_type]\n",
        "            if min_cutoff <= r <= max_cutoff and (i, j) not in visited_bonds:\n",
        "                visited_bonds.add((i, j))  # Mark this bond as visited\n",
        "\n",
        "                # Get the bond parameters\n",
        "                k_b, r_0 = bond_params[bond_type]\n",
        "                bonds_new.append([i,j])\n",
        "                # Calculate energy for this bond and add to total\n",
        "                bond_energy = k_b * (r - r_0) ** 2\n",
        "                stretch_energy += bond_energy\n",
        "                bond_count += 1\n",
        "\n",
        "                # Debugging output for verification\n",
        "                print(f\"Bond {bond_type[0]}-{bond_type[1]}: Length = {r:.2f} Å, Energy = {bond_energy:.4f} kcal/mol\")\n",
        "\n",
        "# Output the final results\n",
        "print(f\"\\nTotal Stretching (Bond) Energy: {stretch_energy:.4f} kcal/mol\")\n",
        "print(f\"Number of Bonds: {bond_count}\")\n",
        "print(r)\n",
        "\n"
      ],
      "metadata": {
        "colab": {
          "base_uri": "https://localhost:8080/"
        },
        "id": "sjuoHHtrIWbg",
        "outputId": "b41bf1fa-98cb-4303-bcf9-a50524d3d67b"
      },
      "execution_count": 94,
      "outputs": [
        {
          "output_type": "stream",
          "name": "stdout",
          "text": [
            "Bond C-C: Length = 1.55 Å, Energy = 0.1672 kcal/mol\n",
            "Bond C-H: Length = 1.08 Å, Energy = 0.2841 kcal/mol\n",
            "Bond C-H: Length = 1.07 Å, Energy = 0.6071 kcal/mol\n",
            "Bond C-H: Length = 1.25 Å, Energy = 6.8832 kcal/mol\n",
            "Bond C-H: Length = 1.02 Å, Energy = 2.9857 kcal/mol\n",
            "Bond C-H: Length = 1.10 Å, Energy = 0.0237 kcal/mol\n",
            "Bond C-H: Length = 1.14 Å, Energy = 0.2814 kcal/mol\n",
            "\n",
            "Total Stretching (Bond) Energy: 11.2323 kcal/mol\n",
            "Number of Bonds: 7\n",
            "1.1383538861004516\n"
          ]
        }
      ]
    },
    {
      "cell_type": "code",
      "source": [],
      "metadata": {
        "id": "n26AMep4UP1v"
      },
      "execution_count": 94,
      "outputs": []
    },
    {
      "cell_type": "code",
      "source": [
        "\n",
        "#bending energy calculayion\n",
        "bond_distance_threshold = 1.6  # Bonding threshold in angstroms\n",
        "equilibrium_angle_degrees = 109.5  # Equilibrium bond angle for sp³ carbons\n",
        "\n",
        "\n",
        "# Define k_a values for bending energy\n",
        "ka_values_degree = {\n",
        "    ('H', 'C', 'H'): 35,\n",
        "    ('H', 'C', 'C'): 35,\n",
        "    ('C', 'C', 'C'): 60\n",
        "}\n",
        "\n",
        "# Initialize bending energy calculations\n",
        "bend_energy_degrees = 0.0\n",
        "bend_energy_radians = 0.0\n",
        "angle_count = 0\n",
        "angles_new= []\n",
        "# Example atoms\n",
        "\n",
        "# Calculate angles and bending energy\n",
        "for j in range(len(atoms)):\n",
        "    if atoms[j][0] == 'C':  # Central atom must be carbon\n",
        "        # Find atoms bonded to the central carbon atom\n",
        "        bonded_atoms = [\n",
        "            i for i in range(len(atoms))\n",
        "            if i != j and bond_length(atoms[i][1:], atoms[j][1:]) <= bond_distance_threshold\n",
        "        ]\n",
        "\n",
        "        # Iterate over unique pairs of bonded atoms\n",
        "        for m in range(len(bonded_atoms)):\n",
        "            for n in range(m + 1, len(bonded_atoms)):\n",
        "                i, k = bonded_atoms[m], bonded_atoms[n]\n",
        "\n",
        "                # Determine the angle type and corresponding k_a value\n",
        "                angle_type = (atoms[i][0], atoms[j][0], atoms[k][0])\n",
        "                ka_degree = ka_values_degree.get(angle_type, 35)  # Default to 35 if not found\n",
        "                angles_new.append([i,j,k])\n",
        "                # Calculate bond angle in degrees\n",
        "                angle_degrees = bond_angle(atoms[i][1:], atoms[j][1:], atoms[k][1:])\n",
        "                angle_radians= np.radians(angle_degrees)\n",
        "                # Calculate bending energy in degrees\n",
        "                angle_energy_degrees = ka_degree * (angle_degrees - equilibrium_angle_degrees) ** 2\n",
        "                bend_energy_degrees += angle_energy_degrees\n",
        "\n",
        "\n",
        "\n",
        "\n",
        "                #angles energy in radians\n",
        "                # Calculate bond angle in degrees\n",
        "                angle_degrees = bond_angle(atoms[i][1:], atoms[j][1:], atoms[k][1:])\n",
        "\n",
        "                # Calculate bending energy in degrees\n",
        "                angle_energy_degrees = ka_degree * (angle_degrees - equilibrium_angle_degrees) ** 2\n",
        "                bend_energy_degrees += angle_energy_degrees\n",
        "\n",
        "                # Convert energy from degrees to radians\n",
        "                conversion_factor = (np.pi / 180) ** 2\n",
        "                angle_energy_radians = angle_energy_degrees * conversion_factor\n",
        "                bend_energy_radians += angle_energy_radians\n",
        "\n",
        "                # Increment angle count\n",
        "                angle_count += 1\n",
        "\n",
        "\n",
        "\n",
        "\n",
        "                # Print the results\n",
        "                print(f\"{atoms[i][0]}{i + 1} - {atoms[j][0]}{j + 1} - {atoms[k][0]}{k + 1}: \"\n",
        "                      f\"{angle_degrees:>10.3f} {angle_radians:>10.3f} {angle_energy_degrees:>20.6f} {bend_energy_radians:>20.6f}\")\n",
        "\n",
        "# Print total bending energy\n",
        "print(f\"\\nTotal bending energy in degrees: {bend_energy_degrees:.6f} kcal/mol\")\n",
        "print(f\"Total bending energy in radians: {bend_energy_radians:.6f} kcal/mol\")\n",
        "print(f\"Total number of angles calculated: {angle_count}\")\n"
      ],
      "metadata": {
        "colab": {
          "base_uri": "https://localhost:8080/"
        },
        "id": "M4OWNC72SkQr",
        "outputId": "740a4e4e-9c02-42dd-84f1-e6535dd964ad"
      },
      "execution_count": 95,
      "outputs": [
        {
          "output_type": "stream",
          "name": "stdout",
          "text": [
            "C2 - C1 - H3:    112.717      1.967           362.187201             0.110329\n",
            "C2 - C1 - H4:    111.123      1.939            92.193260             0.138412\n",
            "C2 - C1 - H5:    110.354      1.926            25.538209             0.146192\n",
            "H3 - C1 - H4:    112.009      1.955           220.283660             0.213294\n",
            "H3 - C1 - H5:     91.792      1.602         10975.255770             3.556548\n",
            "H4 - C1 - H5:    117.587      2.052          2289.193178             4.253876\n",
            "C1 - C2 - H6:    110.962      1.937            74.801757             4.276662\n",
            "C1 - C2 - H7:    107.137      1.870           195.496814             4.336214\n",
            "C1 - C2 - H8:    109.998      1.920             8.667359             4.338854\n",
            "H6 - C2 - H7:    111.782      1.951           182.190328             4.394352\n",
            "H6 - C2 - H8:    109.435      1.910             0.146832             4.394397\n",
            "H7 - C2 - H8:    107.443      1.875           148.139085             4.439523\n",
            "\n",
            "Total bending energy in degrees: 29148.186908 kcal/mol\n",
            "Total bending energy in radians: 4.439523 kcal/mol\n",
            "Total number of angles calculated: 12\n"
          ]
        }
      ]
    },
    {
      "cell_type": "code",
      "source": [
        "\n",
        "# Torsion Energy Calculation\n",
        "# Fixed bond length threshold for bonding (in Å)\n",
        "bond_thresh = 1.6  # Threshold for bonding\n",
        "torsion_params = {\n",
        "    \"v_n\": 0.3,  # kcal/mol, torsional barrier\n",
        "    \"n\": 3,      # Periodicity of torsion angle\n",
        "}\n",
        "\n",
        "torsion_n = []\n",
        "# Function to calculate and print torsions\n",
        "def calculate_and_print_torsions(atoms):\n",
        "    coords = [atom[1:] for atom in atoms]  # Extract coordinates\n",
        "    n_atoms = len(atoms)\n",
        "    torsions = []\n",
        "    torsions= torsion_n\n",
        "    connectivity = [[] for _ in range(n_atoms)]\n",
        "\n",
        "    # Build connectivity directly inside this function\n",
        "    for i in range(n_atoms):\n",
        "        for j in range(i + 1, n_atoms):\n",
        "            if bond_length(coords[i], coords[j]) < bond_thresh:\n",
        "                connectivity[i].append(j)\n",
        "                connectivity[j].append(i)\n",
        "\n",
        "    # Find all torsions directly\n",
        "    for j in range(n_atoms):\n",
        "        for a in range(len(connectivity[j])):\n",
        "            k = connectivity[j][a]\n",
        "            if k < j:\n",
        "                continue\n",
        "            for b in range(len(connectivity[j])):\n",
        "                i = connectivity[j][b]\n",
        "                if i == k:\n",
        "                    continue\n",
        "                for c in range(len(connectivity[k])):\n",
        "                    l = connectivity[k][c]\n",
        "                    if l == j or l == i:\n",
        "                        continue\n",
        "                    # Calculate dihedral angle\n",
        "                    angle_deg, angle_rad = dihedral_angle(coords[i], coords[j], coords[k], coords[l])\n",
        "\n",
        "                    # Calculate torsion energy in degrees and radians\n",
        "                    torsion_energy_deg = torsion_params[\"v_n\"] * (1 + np.cos(torsion_params[\"n\"] * np.radians(angle_deg)))\n",
        "                    torsion_energy_rad = torsion_params[\"v_n\"] * (1 + np.cos(torsion_params[\"n\"] * angle_rad))\n",
        "\n",
        "                    # Append torsion data\n",
        "                    torsions.append((i, j, k, l, angle_deg, angle_rad, torsion_energy_deg, torsion_energy_rad))\n",
        "\n",
        "    # Print torsions and total energies\n",
        "    torsion_energy_total_deg = 0.0\n",
        "    torsion_energy_total_rad = 0.0\n",
        "    print(\"\\nList of all torsion angles with energies:\")\n",
        "\n",
        "    for (i, j, k, l, angle_deg, angle_rad, torsion_energy_deg, torsion_energy_rad) in torsions:\n",
        "        torsion_energy_total_deg += torsion_energy_deg\n",
        "        torsion_energy_total_rad += torsion_energy_rad\n",
        "\n",
        "        print(f\"{atoms[i][0]}{i + 1} - {atoms[j][0]}{j + 1} - {atoms[k][0]}{k + 1} - {atoms[l][0]}{l + 1}: \"\n",
        "              f\"{angle_deg:>10.3f} {angle_rad: >10.3f} {torsion_energy_deg:>20.6f}\")\n",
        "\n",
        "    # Print total torsion energy\n",
        "    print(f\"\\nTotal torsion energy (calculated using degrees): {torsion_energy_total_deg:.6f} kcal/mol\")\n",
        "    print(f\"Total torsion energy (calculated using radians): {torsion_energy_total_rad:.6f} kcal/mol\")\n",
        "    print(f\"Number of torsions calculated: {len(torsions)}\")\n",
        "            # Append the energy to the list\n",
        "    return torsion_energy_total_rad\n",
        "# Example usage\n",
        "\n",
        "\n",
        "calculate_and_print_torsions(atoms)\n"
      ],
      "metadata": {
        "id": "XwkAaIj51mlI",
        "colab": {
          "base_uri": "https://localhost:8080/"
        },
        "outputId": "3f55922b-1d35-40a9-efd5-e041ec79447e"
      },
      "execution_count": 96,
      "outputs": [
        {
          "output_type": "stream",
          "name": "stdout",
          "text": [
            "\n",
            "List of all torsion angles with energies:\n",
            "H3 - C1 - C2 - H6:     56.162      0.980             0.006038\n",
            "H3 - C1 - C2 - H7:    -66.111     -1.154             0.015228\n",
            "H3 - C1 - C2 - H8:    177.400      3.096             0.002775\n",
            "H4 - C1 - C2 - H6:   -177.164     -3.092             0.003302\n",
            "H4 - C1 - C2 - H7:     60.563      1.057             0.000130\n",
            "H4 - C1 - C2 - H8:    -55.925     -0.976             0.006802\n",
            "H5 - C1 - C2 - H6:    -44.877     -0.783             0.089239\n",
            "H5 - C1 - C2 - H7:   -167.150     -2.917             0.065381\n",
            "H5 - C1 - C2 - H8:     76.362      1.333             0.103519\n",
            "\n",
            "Total torsion energy (calculated using degrees): 0.292415 kcal/mol\n",
            "Total torsion energy (calculated using radians): 0.292415 kcal/mol\n",
            "Number of torsions calculated: 9\n"
          ]
        },
        {
          "output_type": "execute_result",
          "data": {
            "text/plain": [
              "0.29241459726936503"
            ]
          },
          "metadata": {},
          "execution_count": 96
        }
      ]
    },
    {
      "cell_type": "code",
      "source": [
        "#internal coordinate\n",
        "\n",
        "internal_coords = bond_count + angle_count +  len(torsion_n)\n",
        "cartesian_coords = 3 * len(atoms)\n",
        "\n",
        "print(f\"Internal Coordinates: {internal_coords}\")\n",
        "print(f\"Cartesian Coordinates: {cartesian_coords}\")\n"
      ],
      "metadata": {
        "id": "5j5Y0c95rMh8",
        "outputId": "03a87f03-cb6f-4022-d158-5a1d0a92041d",
        "colab": {
          "base_uri": "https://localhost:8080/"
        }
      },
      "execution_count": 97,
      "outputs": [
        {
          "output_type": "stream",
          "name": "stdout",
          "text": [
            "Internal Coordinates: 28\n",
            "Cartesian Coordinates: 24\n"
          ]
        }
      ]
    },
    {
      "cell_type": "code",
      "source": [
        "Total_energy_vanderwaals = []\n",
        "\n",
        "# Function to calculate van der Waals energy and print as it iterates\n",
        "def calculate_and_print_vdw_energy(atoms, bonds_new, angles_new):\n",
        "    # Define epsilon and sigma values for Hydrogen and Carbon\n",
        "    epsilon_values = {'H': 0.03, 'C': 0.07}  # in kcal/mol\n",
        "    sigma_values = {'H': 1.20, 'C': 1.75}    # in Angstroms\n",
        "\n",
        "    total_energy = 0.0\n",
        "\n",
        "    print(f\"{'Atom Pair':<15} {'Distance (Å)':>15} {'Energy (kcal/mol)':>20}\")\n",
        "\n",
        "    N = len(atoms)\n",
        "\n",
        "    # Iterate over all unique atom pairs\n",
        "    for i in range(N):\n",
        "        for j in range(i + 1, N):\n",
        "            calc_vdw = True  # Assume we will calculate vdW for this pair\n",
        "            # Exclude bonded pairs\n",
        "            for bond in bonds_new:\n",
        "                if i in bond and j in bond:\n",
        "                    calc_vdw = False\n",
        "                    break\n",
        "            # Exclude pairs involved in angles\n",
        "            if calc_vdw:\n",
        "                for angle in angles_new:\n",
        "                    if i in angle and j in angle:\n",
        "                        calc_vdw = False\n",
        "                        break\n",
        "\n",
        "            # Retrieve atom types and coordinates\n",
        "            atom1_type, x1, y1, z1 = atoms[i]\n",
        "            atom2_type, x2, y2, z2 = atoms[j]\n",
        "            r_ij = math.sqrt((x2 - x1)**2 + (y2 - y1)**2 + (z2 - z1)**2)\n",
        "\n",
        "            if calc_vdw:\n",
        "                # Retrieve epsilon and sigma values\n",
        "                epsilon_i = epsilon_values.get(atom1_type)\n",
        "                epsilon_j = epsilon_values.get(atom2_type)\n",
        "                sigma_i = sigma_values.get(atom1_type)\n",
        "                sigma_j = sigma_values.get(atom2_type)\n",
        "\n",
        "                if epsilon_i is None or epsilon_j is None:\n",
        "                    raise ValueError(f\"Unknown atom type: {atom1_type} or {atom2_type}\")\n",
        "\n",
        "                # Compute mixed epsilon and sigma using geometric mean\n",
        "                epsilon_ij = math.sqrt(epsilon_i * epsilon_j)\n",
        "                sigma_ij = 2*math.sqrt(sigma_i * sigma_j)\n",
        "\n",
        "                # Compute Lennard-Jones potential\n",
        "                term12 = (sigma_ij / r_ij) ** 12\n",
        "                term6 = (sigma_ij / r_ij) ** 6\n",
        "                energy_lj = 4 * epsilon_ij * (term12 - term6)\n",
        "\n",
        "                # Accumulate the total energy\n",
        "                total_energy += energy_lj\n",
        "                energy = energy_lj\n",
        "            else:\n",
        "                # For uncalculated pairs, energy is zero\n",
        "                energy = 0.0\n",
        "\n",
        "            # Print the current pair details\n",
        "            print(f\"{atom1_type} {i + 1:<3}- {atom2_type} {j + 1:<3}: {r_ij:>15.4f} {energy:>20.4f}\")\n",
        "            # Append the energy to the list\n",
        "    Total_energy_vanderwaals.append(total_energy)\n",
        "\n",
        "    print(f\"\\nTotal van der Waals Energy: {total_energy:.4f} kcal/mol\")\n",
        "\n",
        "\n",
        "# Example Input\n",
        "\n",
        "\n",
        "# Calculate and print van der Waals energy\n",
        "calculate_and_print_vdw_energy(atoms, bonds_new, angles_new)\n",
        "\n"
      ],
      "metadata": {
        "id": "2APZIf7rIU7F",
        "colab": {
          "base_uri": "https://localhost:8080/"
        },
        "outputId": "f826854d-7665-42d1-8e7b-981e34646174"
      },
      "execution_count": 98,
      "outputs": [
        {
          "output_type": "stream",
          "name": "stdout",
          "text": [
            "Atom Pair          Distance (Å)    Energy (kcal/mol)\n",
            "C 1  - C 2  :          1.5536               0.0000\n",
            "C 1  - H 3  :          1.0815               0.0000\n",
            "C 1  - H 4  :          1.0684               0.0000\n",
            "C 1  - H 5  :          1.2502               0.0000\n",
            "C 1  - H 6  :          2.1402               0.0000\n",
            "C 1  - H 7  :          2.1532               0.0000\n",
            "C 1  - H 8  :          2.2179               0.0000\n",
            "C 2  - H 3  :          2.2093               0.0000\n",
            "C 2  - H 4  :          2.1798               0.0000\n",
            "C 2  - H 5  :          2.3082               0.0000\n",
            "C 2  - H 6  :          1.0176               0.0000\n",
            "C 2  - H 7  :          1.1018               0.0000\n",
            "C 2  - H 8  :          1.1384               0.0000\n",
            "H 3  - H 4  :          1.7824               0.0000\n",
            "H 3  - H 5  :          1.6785               0.0000\n",
            "H 3  - H 6  :          2.5092              -0.0215\n",
            "H 3  - H 7  :          2.5543              -0.0258\n",
            "H 3  - H 8  :          3.1375              -0.0192\n",
            "H 4  - H 5  :          1.9853               0.0000\n",
            "H 4  - H 6  :          3.0150              -0.0228\n",
            "H 4  - H 7  :          2.4885              -0.0189\n",
            "H 4  - H 8  :          2.5223              -0.0230\n",
            "H 5  - H 6  :          2.4965              -0.0200\n",
            "H 5  - H 7  :          3.1999              -0.0176\n",
            "H 5  - H 8  :          2.7533              -0.0295\n",
            "H 6  - H 7  :          1.7554               0.0000\n",
            "H 6  - H 8  :          1.7614               0.0000\n",
            "H 7  - H 8  :          1.8060               0.0000\n",
            "\n",
            "Total van der Waals Energy: -0.1982 kcal/mol\n"
          ]
        }
      ]
    },
    {
      "cell_type": "code",
      "source": [
        "#Total_energy =   stretch_energy + bend_energy_radians + torsion_energy_total_rad + total_energy_vanderwaal\n",
        "#print(Total_energy)"
      ],
      "metadata": {
        "id": "Yws0EEIxTWyC"
      },
      "execution_count": 99,
      "outputs": []
    },
    {
      "cell_type": "markdown",
      "source": [
        "# New Section"
      ],
      "metadata": {
        "id": "NHacYFRBWCvq"
      }
    },
    {
      "cell_type": "code",
      "source": [
        "#print_atom_coordinates(atoms)\n",
        "#print(\"Number of coordinates: \")\n",
        "#print(f\"Stretching: {bond_count} Bending: {angle_count} Torsion: {len(torsion_n)}\\nInternal: {internal_coords} Cartesian: {cartesian_coords}\")\n",
        "#print(f\"Potential energy at input structure: {Energy_total: .6f}\")\n"
      ],
      "metadata": {
        "id": "JiSpozGUl5a5"
      },
      "execution_count": 100,
      "outputs": []
    },
    {
      "cell_type": "code",
      "source": [],
      "metadata": {
        "id": "1gM1LW1pDPUj"
      },
      "execution_count": 100,
      "outputs": []
    },
    {
      "cell_type": "code",
      "source": [
        "\n",
        "\n",
        "# Function to calculate the gradient (force) due to bond stretching\n",
        "def bond_stretch_gradient(atoms, bond_params, bond_cutoffs):\n",
        "    \"\"\"\n",
        "    Calculate the gradient (force) on each atom due to bond stretching.\n",
        "    atoms: List of tuples (atom type, x, y, z) for each atom.\n",
        "    bond_params: Dictionary of bond force constants (k_b) and equilibrium bond lengths (r_0).\n",
        "    bond_cutoffs: Dictionary of bond cutoffs for detecting bonded atoms.\n",
        "    \"\"\"\n",
        "    n_atoms = len(atoms)\n",
        "    gradients = np.zeros((n_atoms, 3))  # Initialize gradient for each atom (3D vector)\n",
        "    visited_bonds = set()  # To track counted bonds\n",
        "\n",
        "    # Iterate over all pairs of atoms\n",
        "    for i in range(n_atoms - 1):\n",
        "        for j in range(i + 1, n_atoms):\n",
        "            # Determine bond type dynamically\n",
        "            bond_type = tuple(sorted((atoms[i][0], atoms[j][0])))\n",
        "\n",
        "            # Only consider bonds defined in bond_params and bond_cutoffs\n",
        "            if bond_type in bond_params and bond_type in bond_cutoffs:\n",
        "                # Calculate the bond length\n",
        "                r = bond_length(atoms[i][1:], atoms[j][1:])\n",
        "\n",
        "                # Apply distance cutoffs to avoid counting non-bonded pairs\n",
        "                min_cutoff, max_cutoff = bond_cutoffs[bond_type]\n",
        "                if min_cutoff <= r <= max_cutoff and (i, j) not in visited_bonds:\n",
        "                    visited_bonds.add((i, j))  # Mark this bond as visited\n",
        "\n",
        "                    # Get bond parameters (force constant k_b and equilibrium bond length r_0)\n",
        "                    k_b, r_0 = bond_params[bond_type]\n",
        "\n",
        "                    # Compute the gradient of the bond energy with respect to atomic positions\n",
        "                    # Bond length difference from equilibrium\n",
        "                    delta_r = r_0-r\n",
        "\n",
        "                    # Compute the gradient for both atoms i and j\n",
        "                    # Gradient (force) on atom i\n",
        "                    grad_i = -2 * k_b * delta_r * (np.array(atoms[i][1:]) - np.array(atoms[j][1:])) / r\n",
        "                    # Gradient (force) on atom j\n",
        "                    grad_j = 2 * k_b * delta_r * (np.array(atoms[i][1:]) - np.array(atoms[j][1:])) / r\n",
        "\n",
        "                    # Update the gradients for atoms i and j\n",
        "                    gradients[i] += grad_i\n",
        "                    gradients[j] += grad_j\n",
        "\n",
        "    return gradients\n",
        "\n",
        "\n",
        "\n",
        "\n",
        "\n",
        "# Compute bond stretching gradient (forces)\n",
        "gradients = bond_stretch_gradient(atoms, bond_params, bond_cutoffs)\n",
        "\n",
        "# Output the gradients (forces) on each atom\n",
        "print(\"Gradients (forces) on each atom:\")\n",
        "for i, grad in enumerate(gradients):\n",
        "    print(f\"Atom {i+1} (type {atoms[i][0]}): Force = {grad} kcal/mol/Å\")\n"
      ],
      "metadata": {
        "id": "ZomHzTbWA5XP",
        "colab": {
          "base_uri": "https://localhost:8080/"
        },
        "outputId": "7d8001dd-6744-408c-8aca-b650a113ee6f"
      },
      "execution_count": 101,
      "outputs": [
        {
          "output_type": "stream",
          "name": "stdout",
          "text": [
            "Gradients (forces) on each atom:\n",
            "Atom 1 (type C): Force = [  6.66649805 102.29733846 -49.61452342] kcal/mol/Å\n",
            "Atom 2 (type C): Force = [29.78841915 -4.91014381 71.08813205] kcal/mol/Å\n",
            "Atom 3 (type H): Force = [  7.82543764 -11.03748108 -14.64964704] kcal/mol/Å\n",
            "Atom 4 (type H): Force = [ 9.39854376 -8.46250993 26.2689844 ] kcal/mol/Å\n",
            "Atom 5 (type H): Force = [-38.04179319 -82.34144172  37.53928033] kcal/mol/Å\n",
            "Atom 6 (type H): Force = [-20.60968055  21.6071281  -57.34370427] kcal/mol/Å\n",
            "Atom 7 (type H): Force = [-1.90396912 -5.32118888  1.08701228] kcal/mol/Å\n",
            "Atom 8 (type H): Force = [  6.87654425 -11.83170114 -14.37553432] kcal/mol/Å\n"
          ]
        }
      ]
    },
    {
      "cell_type": "code",
      "source": [
        "  \"\"\"\n",
        "def bending_gradient(atoms, ka_values_degree, equilibrium_angle_degrees):\n",
        "\n",
        "    Compute the gradient (force) of the bending energy for each atom involved in the bond angle.\n",
        "    atoms: List of atoms with positions and types.\n",
        "    ka_values_degree: Dictionary of bending constants (k_a) for different angle types.\n",
        "    equilibrium_angle_degrees: The equilibrium bond angle in degrees (typically 109.5 degrees for sp³ carbon).\n",
        "    Returns: A list of gradients for each atom.\n",
        "\n",
        "    n_atoms = len(atoms)\n",
        "    gradients = np.zeros((n_atoms, 3))  # Initialize forces (gradients) for each atom\n",
        "    bond_distance_threshold = 1.6  # Bonding threshold in angstroms (can be adjusted)\n",
        "\n",
        "    # Convert equilibrium angle from degrees to radians\n",
        "    equilibrium_angle_radians = np.radians(equilibrium_angle_degrees)\n",
        "\n",
        "    # Loop over each central carbon atom (atom j) and calculate bending energy\n",
        "    for j in range(len(atoms)):\n",
        "        if atoms[j][0] == 'C':  # Central atom must be carbon (example for sp³ hybridized carbon)\n",
        "            # Find atoms bonded to the central carbon atom\n",
        "            bonded_atoms = [\n",
        "                i for i in range(len(atoms))\n",
        "                if i != j and bond_length(atoms[i][1:], atoms[j][1:]) <= bond_distance_threshold\n",
        "            ]\n",
        "\n",
        "            # Iterate over unique pairs of bonded atoms to calculate angles\n",
        "            for m in range(len(bonded_atoms)):\n",
        "                for n in range(m + 1, len(bonded_atoms)):\n",
        "                    i, k = bonded_atoms[m], bonded_atoms[n]\n",
        "\n",
        "                    # Determine the angle type and corresponding k_a value\n",
        "                    angle_type = (atoms[i][0], atoms[j][0], atoms[k][0])\n",
        "                    ka_degree = ka_values_degree.get(angle_type, 35)  # Default to 35 if not found\n",
        "\n",
        "                    # Calculate bond angle in radians\n",
        "                    angle_radians = bond_angle(atoms[i][1:], atoms[j][1:], atoms[k][1:])\n",
        "\n",
        "                    # Calculate the force factor (gradient scaling factor)\n",
        "                    force_factor = 2 * ka_degree * (angle_radians - equilibrium_angle_radians)\n",
        "\n",
        "                    # Compute vectors from j to i and from j to k\n",
        "                    r1 = np.array(atoms[i][1:])\n",
        "                    r2 = np.array(atoms[j][1:])\n",
        "                    r3 = np.array(atoms[k][1:])\n",
        "\n",
        "                    # Compute bond vectors\n",
        "                    r_ij = r1 - r2  # Vector from atom j to atom i\n",
        "                    r_jk = r3 - r2  # Vector from atom j to atom k\n",
        "\n",
        "                    # Normalize the vectors\n",
        "                    r_ij_unit = r_ij / np.linalg.norm(r_ij)\n",
        "                    r_jk_unit = r_jk / np.linalg.norm(r_jk)\n",
        "\n",
        "                    # Compute the gradient of the angle with respect to atom j (central atom)\n",
        "                    cos_theta = np.dot(r_ij_unit, r_jk_unit)\n",
        "                    sin_theta = np.sqrt(1 - cos_theta ** 2)\n",
        "\n",
        "                    # Gradient of the angle with respect to atom j\n",
        "                    grad_theta_j = (1 / sin_theta) * (r_jk_unit / np.linalg.norm(r_jk) - r_ij_unit / np.linalg.norm(r_ij))\n",
        "\n",
        "                    # Now, calculate the force gradient on each atom (i, j, k)\n",
        "                    grad_j = force_factor * grad_theta_j\n",
        "                    gradients[j] += grad_j\n",
        "\n",
        "                    # Gradients for atom i and atom k\n",
        "                    grad_i = -force_factor * (r_jk_unit / np.linalg.norm(r_jk) - r_ij_unit / np.linalg.norm(r_ij))\n",
        "                    grad_k = -force_factor * (r_ij_unit / np.linalg.norm(r_ij) - r_jk_unit / np.linalg.norm(r_jk))\n",
        "\n",
        "                    gradients[i] += grad_i\n",
        "                    gradients[k] += grad_k\n",
        "\n",
        "    return gradients\n",
        "\n",
        "# Example atomic positions for atoms (atom type, x, y, z)\n",
        "\n",
        "\n",
        "# Bending constants for different angle types\n",
        "ka_values_degree = {\n",
        "    ('H', 'C', 'H'): 35,\n",
        "    ('H', 'C', 'C'): 35,\n",
        "    ('C', 'C', 'C'): 60\n",
        "}\n",
        "\n",
        "# Equilibrium angle in degrees (typically 109.5° for sp³ hybridized carbons)\n",
        "equilibrium_angle_degrees = 109.5\n",
        "\n",
        "# Calculate the bending gradients\n",
        "gradients = bending_gradient(atoms, ka_values_degree, equilibrium_angle_degrees)\n",
        "\n",
        "# Output gradients (forces) on each atom\n",
        "print(\"Gradients (forces) on each atom (in radians):\")\n",
        "for i, grad in enumerate(gradients):\n",
        "    print(f\"Atom {i+1} (type {atoms[i][0]}): Force = {grad} kcal/mol/Å\")\n",
        "    \"\"\""
      ],
      "metadata": {
        "id": "ZBPuXQiE1lLv",
        "colab": {
          "base_uri": "https://localhost:8080/"
        },
        "outputId": "bf0211ba-f5c9-4178-acae-823651841be4"
      },
      "execution_count": 105,
      "outputs": [
        {
          "output_type": "stream",
          "name": "stdout",
          "text": [
            "Gradients (forces) on each atom (in radians):\n",
            "Atom 1 (type C): Force = [-7.94891369 19.78186536 15.49187553] kcal/mol/Å\n",
            "Atom 2 (type C): Force = [ 6.36360207  1.62481756 -1.18823249] kcal/mol/Å\n",
            "Atom 3 (type H): Force = [ -2.99638566 -22.75828871  -0.82301525] kcal/mol/Å\n",
            "Atom 4 (type H): Force = [ -1.6047927    9.15743592 -17.73537367] kcal/mol/Å\n",
            "Atom 5 (type H): Force = [-2.21967616 15.59483689 19.73076448] kcal/mol/Å\n",
            "Atom 6 (type H): Force = [ 1.74340479 -3.89361006  4.38169448] kcal/mol/Å\n",
            "Atom 7 (type H): Force = [-2.74951914 -2.53419884 -3.64049186] kcal/mol/Å\n",
            "Atom 8 (type H): Force = [0.56639275 3.10999865 0.91343357] kcal/mol/Å\n"
          ]
        }
      ]
    },
    {
      "cell_type": "code",
      "source": [
        "print(visited_bonds)"
      ],
      "metadata": {
        "id": "7b1ZkUqL1jui",
        "colab": {
          "base_uri": "https://localhost:8080/"
        },
        "outputId": "9fb1c558-78d2-46e2-e504-fa8ed401bb93"
      },
      "execution_count": 103,
      "outputs": [
        {
          "output_type": "stream",
          "name": "stdout",
          "text": [
            "{(0, 1), (0, 4), (1, 5), (0, 3), (0, 2), (1, 7), (1, 6)}\n"
          ]
        }
      ]
    },
    {
      "cell_type": "code",
      "source": [],
      "metadata": {
        "id": "XsVAajixj59A"
      },
      "execution_count": 103,
      "outputs": []
    },
    {
      "cell_type": "code",
      "source": [],
      "metadata": {
        "id": "D33Tvui0Pd1k"
      },
      "execution_count": 103,
      "outputs": []
    },
    {
      "cell_type": "code",
      "source": [],
      "metadata": {
        "id": "lkClvZJ4Fy7U"
      },
      "execution_count": 103,
      "outputs": []
    },
    {
      "cell_type": "code",
      "source": [],
      "metadata": {
        "id": "ckEJ0mBiFzu1"
      },
      "execution_count": 103,
      "outputs": []
    },
    {
      "cell_type": "code",
      "source": [],
      "metadata": {
        "id": "XE6-5JBB8VL8"
      },
      "execution_count": 103,
      "outputs": []
    },
    {
      "cell_type": "code",
      "source": [],
      "metadata": {
        "id": "cezfihQw-12X"
      },
      "execution_count": 103,
      "outputs": []
    },
    {
      "cell_type": "code",
      "source": [],
      "metadata": {
        "id": "2LKUVxnbIS5_"
      },
      "execution_count": 103,
      "outputs": []
    },
    {
      "cell_type": "code",
      "source": [],
      "metadata": {
        "id": "iITBjabwA9pg"
      },
      "execution_count": 103,
      "outputs": []
    }
  ]
}